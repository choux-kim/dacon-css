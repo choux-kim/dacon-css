{
 "cells": [
  {
   "cell_type": "code",
   "execution_count": 1,
   "metadata": {},
   "outputs": [],
   "source": [
    "import pandas as pd\n",
    "import numpy as np\n",
    "import matplotlib as mpl\n",
    "import matplotlib.pyplot as plt\n",
    "%matplotlib inline\n",
    "from datetime import datetime\n",
    "from collections import Counter\n",
    "from glob import glob\n",
    "import warnings\n",
    "warnings.filterwarnings(action='ignore')\n",
    "\n",
    "from sklearn.model_selection import train_test_split\n",
    "from sklearn.pipeline import Pipeline, make_pipeline\n",
    "from sklearn.preprocessing import StandardScaler\n",
    "from sklearn.preprocessing import OneHotEncoder\n",
    "from sklearn.compose import ColumnTransformer\n",
    "from sklearn.model_selection import GridSearchCV\n",
    "from sklearn.metrics import log_loss, confusion_matrix, accuracy_score #, precision_score, recall_score, f1_score, roc_auc_score"
   ]
  },
  {
   "cell_type": "code",
   "execution_count": 2,
   "metadata": {},
   "outputs": [],
   "source": [
    "mpl.rcParams['axes.formatter.limits'] = [-10,10]"
   ]
  },
  {
   "cell_type": "code",
   "execution_count": 3,
   "metadata": {
    "scrolled": true
   },
   "outputs": [
    {
     "data": {
      "text/html": [
       "<div>\n",
       "<style scoped>\n",
       "    .dataframe tbody tr th:only-of-type {\n",
       "        vertical-align: middle;\n",
       "    }\n",
       "\n",
       "    .dataframe tbody tr th {\n",
       "        vertical-align: top;\n",
       "    }\n",
       "\n",
       "    .dataframe thead th {\n",
       "        text-align: right;\n",
       "    }\n",
       "</style>\n",
       "<table border=\"1\" class=\"dataframe\">\n",
       "  <thead>\n",
       "    <tr style=\"text-align: right;\">\n",
       "      <th></th>\n",
       "      <th>index</th>\n",
       "      <th>gender</th>\n",
       "      <th>car</th>\n",
       "      <th>reality</th>\n",
       "      <th>child_num</th>\n",
       "      <th>income_total</th>\n",
       "      <th>income_type</th>\n",
       "      <th>edu_type</th>\n",
       "      <th>family_type</th>\n",
       "      <th>house_type</th>\n",
       "      <th>DAYS_BIRTH</th>\n",
       "      <th>DAYS_EMPLOYED</th>\n",
       "      <th>FLAG_MOBIL</th>\n",
       "      <th>work_phone</th>\n",
       "      <th>phone</th>\n",
       "      <th>email</th>\n",
       "      <th>occyp_type</th>\n",
       "      <th>family_size</th>\n",
       "      <th>begin_month</th>\n",
       "      <th>credit</th>\n",
       "    </tr>\n",
       "  </thead>\n",
       "  <tbody>\n",
       "    <tr>\n",
       "      <th>0</th>\n",
       "      <td>0</td>\n",
       "      <td>F</td>\n",
       "      <td>N</td>\n",
       "      <td>N</td>\n",
       "      <td>0</td>\n",
       "      <td>202500.0</td>\n",
       "      <td>Commercial associate</td>\n",
       "      <td>Higher education</td>\n",
       "      <td>Married</td>\n",
       "      <td>Municipal apartment</td>\n",
       "      <td>-13899</td>\n",
       "      <td>-4709</td>\n",
       "      <td>1</td>\n",
       "      <td>0</td>\n",
       "      <td>0</td>\n",
       "      <td>0</td>\n",
       "      <td>NaN</td>\n",
       "      <td>2.0</td>\n",
       "      <td>-6.0</td>\n",
       "      <td>1.0</td>\n",
       "    </tr>\n",
       "    <tr>\n",
       "      <th>1</th>\n",
       "      <td>1</td>\n",
       "      <td>F</td>\n",
       "      <td>N</td>\n",
       "      <td>Y</td>\n",
       "      <td>1</td>\n",
       "      <td>247500.0</td>\n",
       "      <td>Commercial associate</td>\n",
       "      <td>Secondary / secondary special</td>\n",
       "      <td>Civil marriage</td>\n",
       "      <td>House / apartment</td>\n",
       "      <td>-11380</td>\n",
       "      <td>-1540</td>\n",
       "      <td>1</td>\n",
       "      <td>0</td>\n",
       "      <td>0</td>\n",
       "      <td>1</td>\n",
       "      <td>Laborers</td>\n",
       "      <td>3.0</td>\n",
       "      <td>-5.0</td>\n",
       "      <td>1.0</td>\n",
       "    </tr>\n",
       "    <tr>\n",
       "      <th>2</th>\n",
       "      <td>2</td>\n",
       "      <td>M</td>\n",
       "      <td>Y</td>\n",
       "      <td>Y</td>\n",
       "      <td>0</td>\n",
       "      <td>450000.0</td>\n",
       "      <td>Working</td>\n",
       "      <td>Higher education</td>\n",
       "      <td>Married</td>\n",
       "      <td>House / apartment</td>\n",
       "      <td>-19087</td>\n",
       "      <td>-4434</td>\n",
       "      <td>1</td>\n",
       "      <td>0</td>\n",
       "      <td>1</td>\n",
       "      <td>0</td>\n",
       "      <td>Managers</td>\n",
       "      <td>2.0</td>\n",
       "      <td>-22.0</td>\n",
       "      <td>2.0</td>\n",
       "    </tr>\n",
       "    <tr>\n",
       "      <th>3</th>\n",
       "      <td>3</td>\n",
       "      <td>F</td>\n",
       "      <td>N</td>\n",
       "      <td>Y</td>\n",
       "      <td>0</td>\n",
       "      <td>202500.0</td>\n",
       "      <td>Commercial associate</td>\n",
       "      <td>Secondary / secondary special</td>\n",
       "      <td>Married</td>\n",
       "      <td>House / apartment</td>\n",
       "      <td>-15088</td>\n",
       "      <td>-2092</td>\n",
       "      <td>1</td>\n",
       "      <td>0</td>\n",
       "      <td>1</td>\n",
       "      <td>0</td>\n",
       "      <td>Sales staff</td>\n",
       "      <td>2.0</td>\n",
       "      <td>-37.0</td>\n",
       "      <td>0.0</td>\n",
       "    </tr>\n",
       "    <tr>\n",
       "      <th>4</th>\n",
       "      <td>4</td>\n",
       "      <td>F</td>\n",
       "      <td>Y</td>\n",
       "      <td>Y</td>\n",
       "      <td>0</td>\n",
       "      <td>157500.0</td>\n",
       "      <td>State servant</td>\n",
       "      <td>Higher education</td>\n",
       "      <td>Married</td>\n",
       "      <td>House / apartment</td>\n",
       "      <td>-15037</td>\n",
       "      <td>-2105</td>\n",
       "      <td>1</td>\n",
       "      <td>0</td>\n",
       "      <td>0</td>\n",
       "      <td>0</td>\n",
       "      <td>Managers</td>\n",
       "      <td>2.0</td>\n",
       "      <td>-26.0</td>\n",
       "      <td>2.0</td>\n",
       "    </tr>\n",
       "  </tbody>\n",
       "</table>\n",
       "</div>"
      ],
      "text/plain": [
       "   index gender car reality  child_num  income_total           income_type  \\\n",
       "0      0      F   N       N          0      202500.0  Commercial associate   \n",
       "1      1      F   N       Y          1      247500.0  Commercial associate   \n",
       "2      2      M   Y       Y          0      450000.0               Working   \n",
       "3      3      F   N       Y          0      202500.0  Commercial associate   \n",
       "4      4      F   Y       Y          0      157500.0         State servant   \n",
       "\n",
       "                        edu_type     family_type           house_type  \\\n",
       "0               Higher education         Married  Municipal apartment   \n",
       "1  Secondary / secondary special  Civil marriage    House / apartment   \n",
       "2               Higher education         Married    House / apartment   \n",
       "3  Secondary / secondary special         Married    House / apartment   \n",
       "4               Higher education         Married    House / apartment   \n",
       "\n",
       "   DAYS_BIRTH  DAYS_EMPLOYED  FLAG_MOBIL  work_phone  phone  email  \\\n",
       "0      -13899          -4709           1           0      0      0   \n",
       "1      -11380          -1540           1           0      0      1   \n",
       "2      -19087          -4434           1           0      1      0   \n",
       "3      -15088          -2092           1           0      1      0   \n",
       "4      -15037          -2105           1           0      0      0   \n",
       "\n",
       "    occyp_type  family_size  begin_month  credit  \n",
       "0          NaN          2.0         -6.0     1.0  \n",
       "1     Laborers          3.0         -5.0     1.0  \n",
       "2     Managers          2.0        -22.0     2.0  \n",
       "3  Sales staff          2.0        -37.0     0.0  \n",
       "4     Managers          2.0        -26.0     2.0  "
      ]
     },
     "execution_count": 3,
     "metadata": {},
     "output_type": "execute_result"
    }
   ],
   "source": [
    "df = pd.read_csv('open/train.csv', encoding='utf-8')\n",
    "df.head()"
   ]
  },
  {
   "cell_type": "code",
   "execution_count": 4,
   "metadata": {
    "scrolled": false
   },
   "outputs": [
    {
     "data": {
      "text/plain": [
       "(26457, 20)"
      ]
     },
     "execution_count": 4,
     "metadata": {},
     "output_type": "execute_result"
    }
   ],
   "source": [
    "df.shape"
   ]
  },
  {
   "cell_type": "code",
   "execution_count": 5,
   "metadata": {},
   "outputs": [],
   "source": [
    "#df = df.drop('index',axis=1)"
   ]
  },
  {
   "cell_type": "code",
   "execution_count": 6,
   "metadata": {},
   "outputs": [],
   "source": [
    "df = df.fillna('unknown')"
   ]
  },
  {
   "cell_type": "markdown",
   "metadata": {},
   "source": [
    "## credit 비율"
   ]
  },
  {
   "cell_type": "code",
   "execution_count": 7,
   "metadata": {
    "scrolled": true
   },
   "outputs": [
    {
     "data": {
      "text/plain": [
       "Counter({1.0: 6267, 2.0: 16968, 0.0: 3222})"
      ]
     },
     "execution_count": 7,
     "metadata": {},
     "output_type": "execute_result"
    }
   ],
   "source": [
    "credit = Counter(df.credit)\n",
    "credit"
   ]
  },
  {
   "cell_type": "code",
   "execution_count": 8,
   "metadata": {},
   "outputs": [
    {
     "data": {
      "text/plain": [
       "(6267, 16968, 3222)"
      ]
     },
     "execution_count": 8,
     "metadata": {},
     "output_type": "execute_result"
    }
   ],
   "source": [
    "credit_1, credit_2, credit_0 = credit[1.0], credit[2.0], credit[0.0]\n",
    "credit_1, credit_2, credit_0"
   ]
  },
  {
   "cell_type": "markdown",
   "metadata": {},
   "source": [
    "## credit별 gender 비율\n",
    "- credit에 관계없이 여자가 두 배 정도 많음"
   ]
  },
  {
   "cell_type": "code",
   "execution_count": 9,
   "metadata": {},
   "outputs": [
    {
     "data": {
      "text/plain": [
       "(0.6733684378490505, 0.3266315621509494)"
      ]
     },
     "execution_count": 9,
     "metadata": {},
     "output_type": "execute_result"
    }
   ],
   "source": [
    "gender_1 = Counter(df[df['credit']==1.0]['gender'])\n",
    "gender_1['F']/credit_1, gender_1['M']/credit_1"
   ]
  },
  {
   "cell_type": "code",
   "execution_count": 10,
   "metadata": {},
   "outputs": [
    {
     "data": {
      "text/plain": [
       "(0.6676685525695427, 0.33233144743045734)"
      ]
     },
     "execution_count": 10,
     "metadata": {},
     "output_type": "execute_result"
    }
   ],
   "source": [
    "gender_2 = Counter(df[df['credit']==2.0]['gender'])\n",
    "gender_2['F']/credit_2, gender_2['M']/credit_2"
   ]
  },
  {
   "cell_type": "code",
   "execution_count": 11,
   "metadata": {},
   "outputs": [
    {
     "data": {
      "text/plain": [
       "(0.6666666666666666, 0.3333333333333333)"
      ]
     },
     "execution_count": 11,
     "metadata": {},
     "output_type": "execute_result"
    }
   ],
   "source": [
    "gender_0 = Counter(df[df['credit']==0.0]['gender'])\n",
    "gender_0['F']/credit_0, gender_0['M']/credit_0"
   ]
  },
  {
   "cell_type": "markdown",
   "metadata": {},
   "source": [
    "## credit별 car 비율"
   ]
  },
  {
   "cell_type": "code",
   "execution_count": 12,
   "metadata": {},
   "outputs": [
    {
     "data": {
      "text/plain": [
       "(0.363331737673528, 0.636668262326472)"
      ]
     },
     "execution_count": 12,
     "metadata": {},
     "output_type": "execute_result"
    }
   ],
   "source": [
    "car_1 = Counter(df[df['credit']==1.0]['car'])\n",
    "car_1['Y']/credit_1, car_1['N']/credit_1"
   ]
  },
  {
   "cell_type": "code",
   "execution_count": 13,
   "metadata": {},
   "outputs": [
    {
     "data": {
      "text/plain": [
       "(0.3848420556341348, 0.6151579443658651)"
      ]
     },
     "execution_count": 13,
     "metadata": {},
     "output_type": "execute_result"
    }
   ],
   "source": [
    "car_2 = Counter(df[df['credit']==2.0]['car'])\n",
    "car_2['Y']/credit_2, car_2['N']/credit_2"
   ]
  },
  {
   "cell_type": "code",
   "execution_count": 14,
   "metadata": {},
   "outputs": [
    {
     "data": {
      "text/plain": [
       "(0.38485412787088763, 0.6151458721291123)"
      ]
     },
     "execution_count": 14,
     "metadata": {},
     "output_type": "execute_result"
    }
   ],
   "source": [
    "car_0 = Counter(df[df['credit']==0.0]['car'])\n",
    "car_0['Y']/credit_0, car_0['N']/credit_0"
   ]
  },
  {
   "cell_type": "markdown",
   "metadata": {},
   "source": [
    "## credit별 reality 비율"
   ]
  },
  {
   "cell_type": "code",
   "execution_count": 15,
   "metadata": {},
   "outputs": [
    {
     "data": {
      "text/plain": [
       "(0.691239827668741, 0.30876017233125896)"
      ]
     },
     "execution_count": 15,
     "metadata": {},
     "output_type": "execute_result"
    }
   ],
   "source": [
    "reality_1 = Counter(df[df['credit']==1.0]['reality'])\n",
    "reality_1['Y']/credit_1, reality_1['N']/credit_1"
   ]
  },
  {
   "cell_type": "code",
   "execution_count": 16,
   "metadata": {},
   "outputs": [
    {
     "data": {
      "text/plain": [
       "(0.6683168316831684, 0.3316831683168317)"
      ]
     },
     "execution_count": 16,
     "metadata": {},
     "output_type": "execute_result"
    }
   ],
   "source": [
    "reality_2 = Counter(df[df['credit']==2.0]['reality'])\n",
    "reality_2['Y']/credit_2, reality_2['N']/credit_2"
   ]
  },
  {
   "cell_type": "code",
   "execution_count": 17,
   "metadata": {},
   "outputs": [
    {
     "data": {
      "text/plain": [
       "(0.6697703289882061, 0.3302296710117939)"
      ]
     },
     "execution_count": 17,
     "metadata": {},
     "output_type": "execute_result"
    }
   ],
   "source": [
    "reality_0 = Counter(df[df['credit']==0.0]['reality'])\n",
    "reality_0['Y']/credit_0, reality_0['N']/credit_0"
   ]
  },
  {
   "cell_type": "markdown",
   "metadata": {},
   "source": [
    "#### credit별 변수 구성요소 비율"
   ]
  },
  {
   "cell_type": "code",
   "execution_count": 18,
   "metadata": {},
   "outputs": [
    {
     "data": {
      "text/plain": [
       "array([ 0,  1,  2,  3,  4,  5, 14, 19,  7], dtype=int64)"
      ]
     },
     "execution_count": 18,
     "metadata": {},
     "output_type": "execute_result"
    }
   ],
   "source": [
    "df.child_num.unique()"
   ]
  },
  {
   "cell_type": "code",
   "execution_count": 19,
   "metadata": {},
   "outputs": [
    {
     "data": {
      "text/plain": [
       "Counter({0: 18340, 1: 5386, 2: 2362, 3: 306, 4: 47, 5: 10, 14: 3, 19: 1, 7: 2})"
      ]
     },
     "execution_count": 19,
     "metadata": {},
     "output_type": "execute_result"
    }
   ],
   "source": [
    "a = Counter(df.child_num)\n",
    "a"
   ]
  },
  {
   "cell_type": "code",
   "execution_count": 20,
   "metadata": {},
   "outputs": [
    {
     "data": {
      "text/plain": [
       "dict_values([18340, 5386, 2362, 306, 47, 10, 3, 1, 2])"
      ]
     },
     "execution_count": 20,
     "metadata": {},
     "output_type": "execute_result"
    }
   ],
   "source": [
    "a.values()"
   ]
  },
  {
   "cell_type": "code",
   "execution_count": 21,
   "metadata": {},
   "outputs": [
    {
     "data": {
      "text/plain": [
       "18340"
      ]
     },
     "execution_count": 21,
     "metadata": {},
     "output_type": "execute_result"
    }
   ],
   "source": [
    "a[0]"
   ]
  },
  {
   "cell_type": "code",
   "execution_count": 22,
   "metadata": {},
   "outputs": [],
   "source": [
    "df = df.drop('index', axis=1)"
   ]
  },
  {
   "cell_type": "code",
   "execution_count": 23,
   "metadata": {},
   "outputs": [],
   "source": [
    "def ratio(df):\n",
    "    raio_lst = []\n",
    "    credit = Counter(df.credit)\n",
    "    for col in df.columns:\n",
    "        if col == 'credit':\n",
    "            break\n",
    "        if len(df[col].unique())>20:\n",
    "            print('********', col)\n",
    "            continue\n",
    "        print('[', col, ']')\n",
    "        for credit_num in [1.0, 2.0, 0.0] :\n",
    "            print('  credit : ',credit_num, end ='    ')\n",
    "            lst = []\n",
    "            for idx in df[col].unique():\n",
    "                cnt_dict = Counter(df[df['credit']==credit_num][col])\n",
    "                result = cnt_dict[idx]/credit[credit_num]\n",
    "                lst.append([idx, result])\n",
    "                print('idx: ', idx, ' ', result, end=' ')\n",
    "            print()"
   ]
  },
  {
   "cell_type": "code",
   "execution_count": 24,
   "metadata": {},
   "outputs": [
    {
     "name": "stdout",
     "output_type": "stream",
     "text": [
      "[ gender ]\n",
      "  credit :  1.0    idx:  F   0.6733684378490505 idx:  M   0.3266315621509494 \n",
      "  credit :  2.0    idx:  F   0.6676685525695427 idx:  M   0.33233144743045734 \n",
      "  credit :  0.0    idx:  F   0.6666666666666666 idx:  M   0.3333333333333333 \n",
      "[ car ]\n",
      "  credit :  1.0    idx:  N   0.636668262326472 idx:  Y   0.363331737673528 \n",
      "  credit :  2.0    idx:  N   0.6151579443658651 idx:  Y   0.3848420556341348 \n",
      "  credit :  0.0    idx:  N   0.6151458721291123 idx:  Y   0.38485412787088763 \n",
      "[ reality ]\n",
      "  credit :  1.0    idx:  N   0.30876017233125896 idx:  Y   0.691239827668741 \n",
      "  credit :  2.0    idx:  N   0.3316831683168317 idx:  Y   0.6683168316831684 \n",
      "  credit :  0.0    idx:  N   0.3302296710117939 idx:  Y   0.6697703289882061 \n",
      "[ child_num ]\n",
      "  credit :  1.0    idx:  0   0.6896441678634115 idx:  1   0.20951013243976385 idx:  2   0.08536779958512845 idx:  3   0.01260571246210308 idx:  4   0.0019147917663954045 idx:  5   0.0009573958831977022 idx:  14   0.0 idx:  19   0.0 idx:  7   0.0 \n",
      "  credit :  2.0    idx:  0   0.6945426685525695 idx:  1   0.19984677039132484 idx:  2   0.09187883074021688 idx:  3   0.01166902404526167 idx:  4   0.0015912305516265913 idx:  5   0.00011786892975011787 idx:  14   0.0001768033946251768 idx:  19   5.8934464875058934e-05 idx:  7   0.00011786892975011787 \n",
      "  credit :  0.0    idx:  0   0.6930477963997517 idx:  1   0.2116697703289882 idx:  2   0.08317815021725636 idx:  3   0.009000620732464307 idx:  4   0.002482929857231533 idx:  5   0.0006207324643078833 idx:  14   0.0 idx:  19   0.0 idx:  7   0.0 \n",
      "******** income_total\n",
      "[ income_type ]\n",
      "  credit :  1.0    idx:  Commercial associate   0.2144566778362853 idx:  Working   0.5340673368437849 idx:  State servant   0.07802776448061273 idx:  Pensioner   0.17296952289771822 idx:  Student   0.0004786979415988511 \n",
      "  credit :  2.0    idx:  Commercial associate   0.24021687883074022 idx:  Working   0.5103135313531353 idx:  State servant   0.08250825082508251 idx:  Pensioner   0.16672560113154172 idx:  Student   0.00023573785950023574 \n",
      "  credit :  0.0    idx:  Commercial associate   0.24270639354438237 idx:  Working   0.5086902545003104 idx:  State servant   0.08224705152079453 idx:  Pensioner   0.16635630043451272 idx:  Student   0.0 \n",
      "[ edu_type ]\n",
      "  credit :  1.0    idx:  Higher education   0.2794000319131961 idx:  Secondary / secondary special   0.6708153821605234 idx:  Incomplete higher   0.03925323121110579 idx:  Lower secondary   0.009414392851444072 idx:  Academic degree   0.0011169618637306526 \n",
      "  credit :  2.0    idx:  Higher education   0.26532296086751533 idx:  Secondary / secondary special   0.6849363507779349 idx:  Incomplete higher   0.038896746817538894 idx:  Lower secondary   0.010018859028760018 idx:  Academic degree   0.0008250825082508251 \n",
      "  credit :  0.0    idx:  Higher education   0.28212290502793297 idx:  Secondary / secondary special   0.6731843575418994 idx:  Incomplete higher   0.035381750465549346 idx:  Lower secondary   0.008690254500310366 idx:  Academic degree   0.0006207324643078833 \n",
      "[ family_type ]\n",
      "  credit :  1.0    idx:  Married   0.6606031594064146 idx:  Civil marriage   0.08600606350726026 idx:  Separated   0.055688527205999684 idx:  Single / not married   0.14999202170097337 idx:  Widow   0.047710228179352165 \n",
      "  credit :  2.0    idx:  Married   0.6979608675153229 idx:  Civil marriage   0.07637906647807638 idx:  Separated   0.05875766148043376 idx:  Single / not married   0.12694483734087694 idx:  Widow   0.039957567185289956 \n",
      "  credit :  0.0    idx:  Married   0.6868404717566728 idx:  Civil marriage   0.0893854748603352 idx:  Separated   0.05990068280571074 idx:  Single / not married   0.12476722532588454 idx:  Widow   0.03910614525139665 \n",
      "[ house_type ]\n",
      "  credit :  1.0    idx:  Municipal apartment   0.02553055688527206 idx:  House / apartment   0.8886229455880006 idx:  With parents   0.04994415190681347 idx:  Co-op apartment   0.004786979415988511 idx:  Rented apartment   0.023456199138343705 idx:  Office apartment   0.007659167065581618 \n",
      "  credit :  2.0    idx:  Municipal apartment   0.032296086751532296 idx:  House / apartment   0.8964521452145214 idx:  With parents   0.04673503064592174 idx:  Co-op apartment   0.0038896746817538895 idx:  Rented apartment   0.013672795851013672 idx:  Office apartment   0.006954266855256954 \n",
      "  credit :  0.0    idx:  Municipal apartment   0.03414028553693358 idx:  House / apartment   0.8916821849782743 idx:  With parents   0.04686530105524519 idx:  Co-op apartment   0.004345127250155183 idx:  Rented apartment   0.015518311607697082 idx:  Office apartment   0.0074487895716946 \n",
      "******** DAYS_BIRTH\n",
      "******** DAYS_EMPLOYED\n",
      "[ FLAG_MOBIL ]\n",
      "  credit :  1.0    idx:  1   1.0 \n",
      "  credit :  2.0    idx:  1   1.0 \n",
      "  credit :  0.0    idx:  1   1.0 \n",
      "[ work_phone ]\n",
      "  credit :  1.0    idx:  0   0.7729376097016116 idx:  1   0.22706239029838837 \n",
      "  credit :  2.0    idx:  0   0.7764026402640264 idx:  1   0.2235973597359736 \n",
      "  credit :  0.0    idx:  0   0.7737430167597765 idx:  1   0.22625698324022347 \n",
      "[ phone ]\n",
      "  credit :  1.0    idx:  0   0.7196425722036062 idx:  1   0.28035742779639383 \n",
      "  credit :  2.0    idx:  0   0.7023220179160773 idx:  1   0.29767798208392265 \n",
      "  credit :  0.0    idx:  0   0.696772191185599 idx:  1   0.303227808814401 \n",
      "[ email ]\n",
      "  credit :  1.0    idx:  0   0.9133556725706079 idx:  1   0.08664432742939206 \n",
      "  credit :  2.0    idx:  0   0.9055280528052805 idx:  1   0.09447194719471948 \n",
      "  credit :  0.0    idx:  0   0.9165114835505896 idx:  1   0.0834885164494103 \n",
      "[ occyp_type ]\n",
      "  credit :  1.0    idx:  unknown   0.30923887027285785 idx:  Laborers   0.1726503909366523 idx:  Managers   0.07308121908409128 idx:  Sales staff   0.10371788734641775 idx:  High skill tech staff   0.0430828147438966 idx:  Core staff   0.09925003989149514 idx:  Drivers   0.057124621030796234 idx:  Medicine staff   0.03047710228179352 idx:  Accountants   0.03622147758097974 idx:  Realty agents   0.0014360938247965534 idx:  Security staff   0.014041806286899633 idx:  Cleaning staff   0.014839636189564385 idx:  Private service staff   0.00877612892931227 idx:  Cooking staff   0.01755225785862454 idx:  Secretaries   0.004946545396521462 idx:  HR staff   0.0006382639221318015 idx:  IT staff   0.0015956598053295037 idx:  Low-skill Laborers   0.003350885591191958 idx:  Waiters/barmen staff   0.007978299026647519 \n",
      "  credit :  2.0    idx:  unknown   0.31034889203206034 idx:  Laborers   0.1676096181046676 idx:  Managers   0.08421735030645922 idx:  Sales staff   0.09405940594059406 idx:  High skill tech staff   0.03813059877416313 idx:  Core staff   0.09883309759547383 idx:  Drivers   0.0607024988213107 idx:  Medicine staff   0.034771334276284774 idx:  Accountants   0.032826496935407824 idx:  Realty agents   0.002593116454502593 idx:  Security staff   0.017503536067892504 idx:  Cleaning staff   0.015912305516265914 idx:  Private service staff   0.009016973125884018 idx:  Cooking staff   0.01703206034889203 idx:  Secretaries   0.0033592644978783595 idx:  HR staff   0.003005657708628006 idx:  IT staff   0.0013554926921263554 idx:  Low-skill Laborers   0.0049504950495049506 idx:  Waiters/barmen staff   0.003771805752003772 \n",
      "  credit :  0.0    idx:  unknown   0.30012414649286157 idx:  Laborers   0.1818746120422098 idx:  Managers   0.08690254500310367 idx:  Sales staff   0.0909373060211049 idx:  High skill tech staff   0.038175046554934824 idx:  Core staff   0.10769708255741775 idx:  Drivers   0.05803848541278709 idx:  Medicine staff   0.025760397268777158 idx:  Accountants   0.03662321539416512 idx:  Realty agents   0.0031036623215394167 idx:  Security staff   0.012104283054003724 idx:  Cleaning staff   0.012414649286157667 idx:  Private service staff   0.010862818125387958 idx:  Cooking staff   0.018001241464928614 idx:  Secretaries   0.002793296089385475 idx:  HR staff   0.0021725636250775914 idx:  IT staff   0.002482929857231533 idx:  Low-skill Laborers   0.006828057107386716 idx:  Waiters/barmen staff   0.0031036623215394167 \n",
      "[ family_size ]\n",
      "  credit :  1.0    idx:  2.0   0.5184298707515558 idx:  3.0   0.17360778681985 idx:  4.0   0.0829743098771342 idx:  1.0   0.2103079623424286 idx:  5.0   0.011807882559438328 idx:  6.0   0.0019147917663954045 idx:  7.0   0.0009573958831977022 idx:  15.0   0.0 idx:  20.0   0.0 idx:  9.0   0.0 \n"
     ]
    },
    {
     "name": "stdout",
     "output_type": "stream",
     "text": [
      "  credit :  2.0    idx:  2.0   0.5384842055634135 idx:  3.0   0.17291371994342292 idx:  4.0   0.08775341819896275 idx:  1.0   0.18776520509193775 idx:  5.0   0.011197548326261197 idx:  6.0   0.0014733616218764733 idx:  7.0   5.8934464875058934e-05 idx:  15.0   0.0001768033946251768 idx:  20.0   5.8934464875058934e-05 idx:  9.0   0.00011786892975011787 \n",
      "  credit :  0.0    idx:  2.0   0.5338299193047796 idx:  3.0   0.1893234016139044 idx:  4.0   0.07790192427063936 idx:  1.0   0.1877715704531347 idx:  5.0   0.008379888268156424 idx:  6.0   0.0021725636250775914 idx:  7.0   0.0006207324643078833 idx:  15.0   0.0 idx:  20.0   0.0 idx:  9.0   0.0 \n",
      "******** begin_month\n"
     ]
    }
   ],
   "source": [
    "ratio(df)"
   ]
  },
  {
   "cell_type": "code",
   "execution_count": 25,
   "metadata": {},
   "outputs": [],
   "source": [
    "# income_total, DAYS_BIRTH, DAYS_EMPLOYED, begin_month"
   ]
  },
  {
   "cell_type": "code",
   "execution_count": 26,
   "metadata": {
    "scrolled": true
   },
   "outputs": [
    {
     "data": {
      "text/plain": [
       "array([ -6.,  -5., -22., -37., -26., -18., -41., -53., -38., -40., -51.,\n",
       "       -60.,  -2., -14.,  -7., -35.,  -4., -13., -57., -47., -33., -30.,\n",
       "       -20.,  -8., -39., -21., -19., -24., -48., -12., -10., -42., -29.,\n",
       "        -3., -23., -25.,  -1., -15., -32., -59., -54., -34.,   0., -27.,\n",
       "       -45., -56., -46.,  -9., -44., -36., -43., -49., -11., -55., -58.,\n",
       "       -28., -52., -17., -50., -16., -31.])"
      ]
     },
     "execution_count": 26,
     "metadata": {},
     "output_type": "execute_result"
    }
   ],
   "source": [
    "df.begin_month.unique()"
   ]
  },
  {
   "cell_type": "markdown",
   "metadata": {},
   "source": [
    "# lgbm"
   ]
  },
  {
   "cell_type": "code",
   "execution_count": 27,
   "metadata": {},
   "outputs": [],
   "source": [
    "features = ['gender', 'car', 'reality', 'child_num', 'income_total', 'income_type',\n",
    "       'edu_type', 'family_type', 'house_type', 'DAYS_BIRTH', 'DAYS_EMPLOYED',\n",
    "       'FLAG_MOBIL', 'work_phone', 'phone', 'email', 'occyp_type',\n",
    "       'family_size', 'begin_month']"
   ]
  },
  {
   "cell_type": "code",
   "execution_count": 28,
   "metadata": {},
   "outputs": [],
   "source": [
    "X = df[features]\n",
    "y = df[['credit']]"
   ]
  },
  {
   "cell_type": "code",
   "execution_count": 29,
   "metadata": {},
   "outputs": [
    {
     "data": {
      "text/plain": [
       "((26457, 18), (26457, 1))"
      ]
     },
     "execution_count": 29,
     "metadata": {},
     "output_type": "execute_result"
    }
   ],
   "source": [
    "X.shape, y.shape"
   ]
  },
  {
   "cell_type": "code",
   "execution_count": 30,
   "metadata": {},
   "outputs": [],
   "source": [
    "X_train, X_test, y_train, y_test = train_test_split(X,y, test_size=0.2, random_state=2021)"
   ]
  },
  {
   "cell_type": "code",
   "execution_count": 31,
   "metadata": {},
   "outputs": [],
   "source": [
    "X_train, X_valid, y_train, y_valid = train_test_split(X_train,y_train, test_size=0.25, random_state=2021)"
   ]
  },
  {
   "cell_type": "code",
   "execution_count": 32,
   "metadata": {},
   "outputs": [
    {
     "data": {
      "text/plain": [
       "((15873, 18), (15873, 1), (5292, 18), (5292, 1), (5292, 18), (5292, 1))"
      ]
     },
     "execution_count": 32,
     "metadata": {},
     "output_type": "execute_result"
    }
   ],
   "source": [
    "X_train.shape, y_train.shape, X_valid.shape, y_valid.shape, X_test.shape, y_test.shape"
   ]
  },
  {
   "cell_type": "code",
   "execution_count": 33,
   "metadata": {},
   "outputs": [],
   "source": [
    "numerical_features = ['income_total', 'DAYS_BIRTH', 'DAYS_EMPLOYED', 'begin_month']\n",
    "numeric_transformer = Pipeline(steps=[('scaler', StandardScaler())])"
   ]
  },
  {
   "cell_type": "code",
   "execution_count": 34,
   "metadata": {},
   "outputs": [],
   "source": [
    "categorical_features = ['gender', 'car', 'reality', 'child_num', 'income_type',\n",
    "       'edu_type', 'family_type', 'house_type',\n",
    "       'FLAG_MOBIL', 'work_phone', 'phone', 'email', 'occyp_type',\n",
    "       'family_size']\n",
    "categorical_transformer = Pipeline(steps=[('onehot', OneHotEncoder(handle_unknown='ignore'))])"
   ]
  },
  {
   "cell_type": "code",
   "execution_count": 35,
   "metadata": {},
   "outputs": [],
   "source": [
    "preprocessor = ColumnTransformer(\n",
    "    transformers=[\n",
    "        ('num', numeric_transformer, numerical_features),\n",
    "        ('cat', categorical_transformer, categorical_features)])"
   ]
  },
  {
   "cell_type": "code",
   "execution_count": 36,
   "metadata": {},
   "outputs": [],
   "source": [
    "# def get_clf_eval(y_test, y_pred):\n",
    "#     confusion = confusion_matrix(y_test, y_pred)\n",
    "#     accuracy = accuracy_score(y_test, y_pred)\n",
    "#     precision = precision_score(y_test, y_pred)\n",
    "#     recall = recall_score(y_test, y_pred)\n",
    "#     F1 = f1_score(y_test, y_pred)\n",
    "#     AUC = roc_auc_score(y_test, y_pred)\n",
    "#     print('오차행렬:\\n', confusion)\n",
    "#     print('\\n정확도: {:.4f}'.format(accuracy))\n",
    "#     print('정밀도: {:.4f}'.format(precision))\n",
    "#     print('재현율: {:.4f}'.format(recall))\n",
    "#     print('F1: {:.4f}'.format(F1))\n",
    "#     print('AUC: {:.4f}'.format(AUC))"
   ]
  },
  {
   "cell_type": "code",
   "execution_count": 37,
   "metadata": {},
   "outputs": [],
   "source": [
    "#X_train"
   ]
  },
  {
   "cell_type": "code",
   "execution_count": 38,
   "metadata": {
    "scrolled": true
   },
   "outputs": [
    {
     "name": "stdout",
     "output_type": "stream",
     "text": [
      "[LightGBM] [Warning] Accuracy may be bad since you didn't explicitly set num_leaves OR 2^max_depth > num_leaves. (num_leaves=31).\n",
      "최적의 매개변수 조합: {'lgbmclassifier__learning_rate': 0.2, 'lgbmclassifier__max_depth': 10, 'lgbmclassifier__min_child_weight': 4, 'lgbmclassifier__objective': 'multiclass'}\n"
     ]
    }
   ],
   "source": [
    "from lightgbm import LGBMClassifier\n",
    " \n",
    "# LGBMClassifier pipeline\n",
    "pipe_lgbm = make_pipeline(preprocessor,LGBMClassifier())\n",
    " \n",
    "# 파라미터 목록\n",
    "param_grid = {'lgbmclassifier__objective':['multiclass'],\n",
    "               'lgbmclassifier__learning_rate': [0.05, 0.1, 0.2], \n",
    "               'lgbmclassifier__max_depth': [1, 5, 10],\n",
    "               'lgbmclassifier__min_child_weight': [3, 4, 5]}\n",
    " \n",
    "\n",
    "gs_lgbm = GridSearchCV(estimator=pipe_lgbm,\n",
    "                   param_grid=param_grid,\n",
    "                   cv=5,\n",
    "                   n_jobs=-1)\n",
    " \n",
    "gs_lgbm.fit(X_train, y_train)\n",
    "\n",
    "print(\"최적의 매개변수 조합: %s\" %gs_lgbm.best_params_)\n",
    "reg_lgbm = gs_lgbm.best_estimator_\n",
    " \n",
    "\n"
   ]
  },
  {
   "cell_type": "code",
   "execution_count": 39,
   "metadata": {},
   "outputs": [],
   "source": [
    "y_lgbm_pred = reg_lgbm.predict(X_test)"
   ]
  },
  {
   "cell_type": "code",
   "execution_count": 40,
   "metadata": {
    "scrolled": true
   },
   "outputs": [
    {
     "data": {
      "text/plain": [
       "0.6965230536659108"
      ]
     },
     "execution_count": 40,
     "metadata": {},
     "output_type": "execute_result"
    }
   ],
   "source": [
    "accuracy_score(y_test, y_lgbm_pred)"
   ]
  },
  {
   "cell_type": "code",
   "execution_count": 41,
   "metadata": {},
   "outputs": [],
   "source": [
    "y_lgbm_pred = reg_lgbm.predict_proba(X_test)"
   ]
  },
  {
   "cell_type": "code",
   "execution_count": 42,
   "metadata": {},
   "outputs": [
    {
     "data": {
      "text/plain": [
       "0.7671805702019729"
      ]
     },
     "execution_count": 42,
     "metadata": {},
     "output_type": "execute_result"
    }
   ],
   "source": [
    "log_loss(y_test, y_lgbm_pred)"
   ]
  },
  {
   "cell_type": "markdown",
   "metadata": {},
   "source": [
    "# test data"
   ]
  },
  {
   "cell_type": "code",
   "execution_count": 44,
   "metadata": {},
   "outputs": [],
   "source": [
    "X_unk = pd.read_csv('open/test.csv', encoding='utf-8')\n",
    "X_unk = X_unk.drop(columns=['index'])\n",
    "X_unk = X_unk.fillna('Unknown')"
   ]
  },
  {
   "cell_type": "code",
   "execution_count": 45,
   "metadata": {},
   "outputs": [],
   "source": [
    "features = ['gender', 'car', 'reality', 'child_num', 'income_total', 'income_type',\n",
    "       'edu_type', 'family_type', 'house_type', 'DAYS_BIRTH', 'DAYS_EMPLOYED',\n",
    "       'FLAG_MOBIL', 'work_phone', 'phone', 'email', 'occyp_type',\n",
    "       'family_size', 'begin_month']"
   ]
  },
  {
   "cell_type": "code",
   "execution_count": 48,
   "metadata": {},
   "outputs": [],
   "source": [
    "X_unk_test = X_unk[features]\n",
    "#y_test = X_unk[['credit']]"
   ]
  },
  {
   "cell_type": "code",
   "execution_count": 49,
   "metadata": {},
   "outputs": [],
   "source": [
    "numerical_features = ['income_total', 'DAYS_BIRTH', 'DAYS_EMPLOYED', 'begin_month']\n",
    "numeric_transformer = Pipeline(steps=[('scaler', StandardScaler())])"
   ]
  },
  {
   "cell_type": "code",
   "execution_count": 50,
   "metadata": {},
   "outputs": [],
   "source": [
    "categorical_features = ['gender', 'car', 'reality', 'child_num', 'income_type',\n",
    "       'edu_type', 'family_type', 'house_type',\n",
    "       'FLAG_MOBIL', 'work_phone', 'phone', 'email', 'occyp_type',\n",
    "       'family_size']\n",
    "categorical_transformer = Pipeline(steps=[('onehot', OneHotEncoder(handle_unknown='ignore'))])"
   ]
  },
  {
   "cell_type": "code",
   "execution_count": 51,
   "metadata": {},
   "outputs": [],
   "source": [
    "preprocessor = ColumnTransformer(\n",
    "    transformers=[\n",
    "        ('num', numeric_transformer, numerical_features),\n",
    "        ('cat', categorical_transformer, categorical_features)])"
   ]
  },
  {
   "cell_type": "code",
   "execution_count": 52,
   "metadata": {},
   "outputs": [],
   "source": [
    "curr_time = datetime.now().strftime('%y%m%d%H%M%S')"
   ]
  },
  {
   "cell_type": "code",
   "execution_count": 54,
   "metadata": {},
   "outputs": [],
   "source": [
    "X_unk_raw = pd.read_csv('open/test.csv', encoding='utf-8')\n",
    "l_idx = X_unk_raw['index']\n",
    "submission = pd.DataFrame(np.insert(reg_lgbm.predict_proba(X_unk_test), 0, l_idx, axis=1), columns=['index', 0, 1, 2])\n",
    "submission['index'] = submission['index'].astype('int')"
   ]
  },
  {
   "cell_type": "code",
   "execution_count": null,
   "metadata": {},
   "outputs": [],
   "source": [
    "#submission = reg_lgbm.predict_proba(X_test)"
   ]
  },
  {
   "cell_type": "code",
   "execution_count": 55,
   "metadata": {},
   "outputs": [],
   "source": [
    "submission.to_csv(f'submission_{curr_time}.csv', index=False)"
   ]
  },
  {
   "cell_type": "code",
   "execution_count": null,
   "metadata": {},
   "outputs": [],
   "source": []
  }
 ],
 "metadata": {
  "kernelspec": {
   "display_name": "Python 3",
   "language": "python",
   "name": "python3"
  },
  "language_info": {
   "codemirror_mode": {
    "name": "ipython",
    "version": 3
   },
   "file_extension": ".py",
   "mimetype": "text/x-python",
   "name": "python",
   "nbconvert_exporter": "python",
   "pygments_lexer": "ipython3",
   "version": "3.8.5"
  }
 },
 "nbformat": 4,
 "nbformat_minor": 4
}
