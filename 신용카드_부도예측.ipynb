{
  "nbformat": 4,
  "nbformat_minor": 0,
  "metadata": {
    "colab": {
      "name": "신용카드 부도예측.ipynb",
      "provenance": [],
      "collapsed_sections": []
    },
    "kernelspec": {
      "name": "python3",
      "display_name": "Python 3"
    },
    "language_info": {
      "name": "python"
    }
  },
  "cells": [
    {
      "cell_type": "markdown",
      "metadata": {
        "id": "0xaN6LWJ7G26"
      },
      "source": [
        "## 0. Import Lib. & Datasets"
      ]
    },
    {
      "cell_type": "code",
      "metadata": {
        "id": "u4GrBJs83j5O"
      },
      "source": [
        "import pandas as pd\n",
        "import numpy as np\n",
        "\n",
        "import matplotlib.pyplot as plt\n",
        "import seaborn as sns"
      ],
      "execution_count": null,
      "outputs": []
    },
    {
      "cell_type": "code",
      "metadata": {
        "id": "rEGufYJv4Rcv"
      },
      "source": [
        "data_train = pd.read_csv('/content/drive/MyDrive/python/Rolling in the deep/train.csv')"
      ],
      "execution_count": null,
      "outputs": []
    },
    {
      "cell_type": "code",
      "metadata": {
        "id": "auspfM2Z5Su2"
      },
      "source": [
        "data_test = pd.read_csv('/content/drive/MyDrive/python/Rolling in the deep/test.csv')"
      ],
      "execution_count": null,
      "outputs": []
    },
    {
      "cell_type": "code",
      "metadata": {
        "colab": {
          "base_uri": "https://localhost:8080/"
        },
        "id": "qtYAIMmI5X9i",
        "outputId": "8993c577-774c-4498-8720-cda0f11594ac"
      },
      "source": [
        "data_train.shape"
      ],
      "execution_count": null,
      "outputs": [
        {
          "output_type": "execute_result",
          "data": {
            "text/plain": [
              "(26457, 20)"
            ]
          },
          "metadata": {
            "tags": []
          },
          "execution_count": 5
        }
      ]
    },
    {
      "cell_type": "code",
      "metadata": {
        "colab": {
          "base_uri": "https://localhost:8080/"
        },
        "id": "0t1YUqEj5axO",
        "outputId": "f5520dd2-0a89-4f30-e041-f41ed99ebb32"
      },
      "source": [
        "data_test.shape"
      ],
      "execution_count": null,
      "outputs": [
        {
          "output_type": "execute_result",
          "data": {
            "text/plain": [
              "(10000, 19)"
            ]
          },
          "metadata": {
            "tags": []
          },
          "execution_count": 6
        }
      ]
    },
    {
      "cell_type": "code",
      "metadata": {
        "colab": {
          "base_uri": "https://localhost:8080/",
          "height": 411
        },
        "id": "f9VkLDK_5ehE",
        "outputId": "3ecae9c8-41b4-47ea-e813-4dcf7219e4e1"
      },
      "source": [
        "data_train.tail()"
      ],
      "execution_count": null,
      "outputs": [
        {
          "output_type": "execute_result",
          "data": {
            "text/html": [
              "<div>\n",
              "<style scoped>\n",
              "    .dataframe tbody tr th:only-of-type {\n",
              "        vertical-align: middle;\n",
              "    }\n",
              "\n",
              "    .dataframe tbody tr th {\n",
              "        vertical-align: top;\n",
              "    }\n",
              "\n",
              "    .dataframe thead th {\n",
              "        text-align: right;\n",
              "    }\n",
              "</style>\n",
              "<table border=\"1\" class=\"dataframe\">\n",
              "  <thead>\n",
              "    <tr style=\"text-align: right;\">\n",
              "      <th></th>\n",
              "      <th>index</th>\n",
              "      <th>gender</th>\n",
              "      <th>car</th>\n",
              "      <th>reality</th>\n",
              "      <th>child_num</th>\n",
              "      <th>income_total</th>\n",
              "      <th>income_type</th>\n",
              "      <th>edu_type</th>\n",
              "      <th>family_type</th>\n",
              "      <th>house_type</th>\n",
              "      <th>DAYS_BIRTH</th>\n",
              "      <th>DAYS_EMPLOYED</th>\n",
              "      <th>FLAG_MOBIL</th>\n",
              "      <th>work_phone</th>\n",
              "      <th>phone</th>\n",
              "      <th>email</th>\n",
              "      <th>occyp_type</th>\n",
              "      <th>family_size</th>\n",
              "      <th>begin_month</th>\n",
              "      <th>credit</th>\n",
              "    </tr>\n",
              "  </thead>\n",
              "  <tbody>\n",
              "    <tr>\n",
              "      <th>26452</th>\n",
              "      <td>26452</td>\n",
              "      <td>F</td>\n",
              "      <td>N</td>\n",
              "      <td>N</td>\n",
              "      <td>2</td>\n",
              "      <td>225000.0</td>\n",
              "      <td>State servant</td>\n",
              "      <td>Secondary / secondary special</td>\n",
              "      <td>Married</td>\n",
              "      <td>House / apartment</td>\n",
              "      <td>-12079</td>\n",
              "      <td>-1984</td>\n",
              "      <td>1</td>\n",
              "      <td>0</td>\n",
              "      <td>0</td>\n",
              "      <td>0</td>\n",
              "      <td>Core staff</td>\n",
              "      <td>4.0</td>\n",
              "      <td>-2.0</td>\n",
              "      <td>1.0</td>\n",
              "    </tr>\n",
              "    <tr>\n",
              "      <th>26453</th>\n",
              "      <td>26453</td>\n",
              "      <td>F</td>\n",
              "      <td>N</td>\n",
              "      <td>Y</td>\n",
              "      <td>1</td>\n",
              "      <td>180000.0</td>\n",
              "      <td>Working</td>\n",
              "      <td>Higher education</td>\n",
              "      <td>Separated</td>\n",
              "      <td>House / apartment</td>\n",
              "      <td>-15291</td>\n",
              "      <td>-2475</td>\n",
              "      <td>1</td>\n",
              "      <td>0</td>\n",
              "      <td>0</td>\n",
              "      <td>0</td>\n",
              "      <td>NaN</td>\n",
              "      <td>2.0</td>\n",
              "      <td>-47.0</td>\n",
              "      <td>2.0</td>\n",
              "    </tr>\n",
              "    <tr>\n",
              "      <th>26454</th>\n",
              "      <td>26454</td>\n",
              "      <td>F</td>\n",
              "      <td>Y</td>\n",
              "      <td>N</td>\n",
              "      <td>0</td>\n",
              "      <td>292500.0</td>\n",
              "      <td>Working</td>\n",
              "      <td>Secondary / secondary special</td>\n",
              "      <td>Civil marriage</td>\n",
              "      <td>With parents</td>\n",
              "      <td>-10082</td>\n",
              "      <td>-2015</td>\n",
              "      <td>1</td>\n",
              "      <td>0</td>\n",
              "      <td>0</td>\n",
              "      <td>0</td>\n",
              "      <td>Core staff</td>\n",
              "      <td>2.0</td>\n",
              "      <td>-25.0</td>\n",
              "      <td>2.0</td>\n",
              "    </tr>\n",
              "    <tr>\n",
              "      <th>26455</th>\n",
              "      <td>26455</td>\n",
              "      <td>M</td>\n",
              "      <td>N</td>\n",
              "      <td>Y</td>\n",
              "      <td>0</td>\n",
              "      <td>171000.0</td>\n",
              "      <td>Working</td>\n",
              "      <td>Incomplete higher</td>\n",
              "      <td>Single / not married</td>\n",
              "      <td>House / apartment</td>\n",
              "      <td>-10145</td>\n",
              "      <td>-107</td>\n",
              "      <td>1</td>\n",
              "      <td>0</td>\n",
              "      <td>0</td>\n",
              "      <td>0</td>\n",
              "      <td>Laborers</td>\n",
              "      <td>1.0</td>\n",
              "      <td>-59.0</td>\n",
              "      <td>2.0</td>\n",
              "    </tr>\n",
              "    <tr>\n",
              "      <th>26456</th>\n",
              "      <td>26456</td>\n",
              "      <td>F</td>\n",
              "      <td>N</td>\n",
              "      <td>N</td>\n",
              "      <td>0</td>\n",
              "      <td>81000.0</td>\n",
              "      <td>Working</td>\n",
              "      <td>Secondary / secondary special</td>\n",
              "      <td>Civil marriage</td>\n",
              "      <td>House / apartment</td>\n",
              "      <td>-19569</td>\n",
              "      <td>-1013</td>\n",
              "      <td>1</td>\n",
              "      <td>0</td>\n",
              "      <td>0</td>\n",
              "      <td>0</td>\n",
              "      <td>Security staff</td>\n",
              "      <td>2.0</td>\n",
              "      <td>-9.0</td>\n",
              "      <td>2.0</td>\n",
              "    </tr>\n",
              "  </tbody>\n",
              "</table>\n",
              "</div>"
            ],
            "text/plain": [
              "       index gender car  ... family_size  begin_month  credit\n",
              "26452  26452      F   N  ...         4.0         -2.0     1.0\n",
              "26453  26453      F   N  ...         2.0        -47.0     2.0\n",
              "26454  26454      F   Y  ...         2.0        -25.0     2.0\n",
              "26455  26455      M   N  ...         1.0        -59.0     2.0\n",
              "26456  26456      F   N  ...         2.0         -9.0     2.0\n",
              "\n",
              "[5 rows x 20 columns]"
            ]
          },
          "metadata": {
            "tags": []
          },
          "execution_count": 8
        }
      ]
    },
    {
      "cell_type": "code",
      "metadata": {
        "colab": {
          "base_uri": "https://localhost:8080/"
        },
        "id": "5yrIRtpW5mgb",
        "outputId": "3c56ca51-ed66-4fd6-9c1c-241b09bb0624"
      },
      "source": [
        "data_train.columns"
      ],
      "execution_count": null,
      "outputs": [
        {
          "output_type": "execute_result",
          "data": {
            "text/plain": [
              "Index(['index', 'gender', 'car', 'reality', 'child_num', 'income_total',\n",
              "       'income_type', 'edu_type', 'family_type', 'house_type', 'DAYS_BIRTH',\n",
              "       'DAYS_EMPLOYED', 'FLAG_MOBIL', 'work_phone', 'phone', 'email',\n",
              "       'occyp_type', 'family_size', 'begin_month', 'credit'],\n",
              "      dtype='object')"
            ]
          },
          "metadata": {
            "tags": []
          },
          "execution_count": 10
        }
      ]
    },
    {
      "cell_type": "code",
      "metadata": {
        "colab": {
          "base_uri": "https://localhost:8080/"
        },
        "id": "IB8_cySy_1vZ",
        "outputId": "c9d37587-bf11-48ae-acce-e4208622134b"
      },
      "source": [
        "for i in data_train.columns:\n",
        "  print(data_train[i].dtypes)"
      ],
      "execution_count": null,
      "outputs": [
        {
          "output_type": "stream",
          "text": [
            "int64\n",
            "object\n",
            "object\n",
            "object\n",
            "int64\n",
            "float64\n",
            "object\n",
            "object\n",
            "object\n",
            "object\n",
            "int64\n",
            "int64\n",
            "int64\n",
            "int64\n",
            "int64\n",
            "int64\n",
            "object\n",
            "float64\n",
            "float64\n",
            "float64\n"
          ],
          "name": "stdout"
        }
      ]
    },
    {
      "cell_type": "markdown",
      "metadata": {
        "id": "uAuNHmrB7M7L"
      },
      "source": [
        "## 1. EDA"
      ]
    },
    {
      "cell_type": "markdown",
      "metadata": {
        "id": "tcU-kxMg680N"
      },
      "source": [
        "### 1.0. Target feature\n",
        "\n",
        " - 비율 불균형"
      ]
    },
    {
      "cell_type": "code",
      "metadata": {
        "colab": {
          "base_uri": "https://localhost:8080/"
        },
        "id": "ixRZ_EXx54bM",
        "outputId": "975964c6-6421-4cd9-a8fd-fdff79499725"
      },
      "source": [
        "data_train['credit'].describe()"
      ],
      "execution_count": null,
      "outputs": [
        {
          "output_type": "execute_result",
          "data": {
            "text/plain": [
              "count    26457.000000\n",
              "mean         1.519560\n",
              "std          0.702283\n",
              "min          0.000000\n",
              "25%          1.000000\n",
              "50%          2.000000\n",
              "75%          2.000000\n",
              "max          2.000000\n",
              "Name: credit, dtype: float64"
            ]
          },
          "metadata": {
            "tags": []
          },
          "execution_count": 13
        }
      ]
    },
    {
      "cell_type": "code",
      "metadata": {
        "colab": {
          "base_uri": "https://localhost:8080/"
        },
        "id": "kANGezeE6Nxn",
        "outputId": "f97b3288-004a-4d76-ddf8-063b1981a78e"
      },
      "source": [
        "data_train['credit'].value_counts()"
      ],
      "execution_count": null,
      "outputs": [
        {
          "output_type": "execute_result",
          "data": {
            "text/plain": [
              "2.0    16968\n",
              "1.0     6267\n",
              "0.0     3222\n",
              "Name: credit, dtype: int64"
            ]
          },
          "metadata": {
            "tags": []
          },
          "execution_count": 14
        }
      ]
    },
    {
      "cell_type": "code",
      "metadata": {
        "colab": {
          "base_uri": "https://localhost:8080/"
        },
        "id": "kdOq80tn6iBl",
        "outputId": "7c32e845-c8dd-429b-9a85-8c33fc533cba"
      },
      "source": [
        "data_train['credit'].isnull().sum()"
      ],
      "execution_count": null,
      "outputs": [
        {
          "output_type": "execute_result",
          "data": {
            "text/plain": [
              "0"
            ]
          },
          "metadata": {
            "tags": []
          },
          "execution_count": 15
        }
      ]
    },
    {
      "cell_type": "markdown",
      "metadata": {
        "id": "ilSfKMqB7CBi"
      },
      "source": [
        "### 1.1. Gender"
      ]
    },
    {
      "cell_type": "code",
      "metadata": {
        "colab": {
          "base_uri": "https://localhost:8080/"
        },
        "id": "aEHvHihY67QI",
        "outputId": "adc5a693-aaf8-4519-917d-4aa4278255fa"
      },
      "source": [
        "data_train['gender'].value_counts()"
      ],
      "execution_count": null,
      "outputs": [
        {
          "output_type": "execute_result",
          "data": {
            "text/plain": [
              "F    17697\n",
              "M     8760\n",
              "Name: gender, dtype: int64"
            ]
          },
          "metadata": {
            "tags": []
          },
          "execution_count": 16
        }
      ]
    },
    {
      "cell_type": "code",
      "metadata": {
        "colab": {
          "base_uri": "https://localhost:8080/"
        },
        "id": "LPqs_ysh7g8a",
        "outputId": "514923fe-2be5-423f-ce7b-13174d264d54"
      },
      "source": [
        "data_train['gender'].isnull().sum()"
      ],
      "execution_count": null,
      "outputs": [
        {
          "output_type": "execute_result",
          "data": {
            "text/plain": [
              "0"
            ]
          },
          "metadata": {
            "tags": []
          },
          "execution_count": 17
        }
      ]
    },
    {
      "cell_type": "code",
      "metadata": {
        "colab": {
          "base_uri": "https://localhost:8080/",
          "height": 297
        },
        "id": "jIl5QRK7D_2k",
        "outputId": "6469f56d-af39-4126-99f2-d61841509b4d"
      },
      "source": [
        "sns.violinplot(x= 'credit', y = 'gender', data = data_train)"
      ],
      "execution_count": null,
      "outputs": [
        {
          "output_type": "execute_result",
          "data": {
            "text/plain": [
              "<matplotlib.axes._subplots.AxesSubplot at 0x7f8af854f8d0>"
            ]
          },
          "metadata": {
            "tags": []
          },
          "execution_count": 36
        },
        {
          "output_type": "display_data",
          "data": {
            "image/png": "[encoded data removed]",
            "text/plain": [
              "<Figure size 432x288 with 1 Axes>"
            ]
          },
          "metadata": {
            "tags": [],
            "needs_background": "light"
          }
        }
      ]
    },
    {
      "cell_type": "markdown",
      "metadata": {
        "id": "nk_jnpoy_fTm"
      },
      "source": [
        "### 2. car"
      ]
    },
    {
      "cell_type": "code",
      "metadata": {
        "colab": {
          "base_uri": "https://localhost:8080/"
        },
        "id": "0j2YnlLK-rWA",
        "outputId": "d224826a-b8b6-4dec-80b9-b3260015b518"
      },
      "source": [
        "data_train['car'].value_counts()"
      ],
      "execution_count": null,
      "outputs": [
        {
          "output_type": "execute_result",
          "data": {
            "text/plain": [
              "N    16410\n",
              "Y    10047\n",
              "Name: car, dtype: int64"
            ]
          },
          "metadata": {
            "tags": []
          },
          "execution_count": 19
        }
      ]
    },
    {
      "cell_type": "code",
      "metadata": {
        "colab": {
          "base_uri": "https://localhost:8080/"
        },
        "id": "C8XgUMrL_nP0",
        "outputId": "994bb292-bd50-4219-f180-504f6eba1ba9"
      },
      "source": [
        "data_train['car'].isnull().sum()"
      ],
      "execution_count": null,
      "outputs": [
        {
          "output_type": "execute_result",
          "data": {
            "text/plain": [
              "0"
            ]
          },
          "metadata": {
            "tags": []
          },
          "execution_count": 21
        }
      ]
    },
    {
      "cell_type": "code",
      "metadata": {
        "colab": {
          "base_uri": "https://localhost:8080/",
          "height": 297
        },
        "id": "Gcxz4whsESHg",
        "outputId": "6d74b665-99fe-458f-f407-71cc9cda9a59"
      },
      "source": [
        "sns.violinplot(x= 'credit', y = 'car', data = data_train)"
      ],
      "execution_count": null,
      "outputs": [
        {
          "output_type": "execute_result",
          "data": {
            "text/plain": [
              "<matplotlib.axes._subplots.AxesSubplot at 0x7f8aedbc7c90>"
            ]
          },
          "metadata": {
            "tags": []
          },
          "execution_count": 37
        },
        {
          "output_type": "display_data",
          "data": {
            "image/png": "[encoded data removed]",
            "text/plain": [
              "<Figure size 432x288 with 1 Axes>"
            ]
          },
          "metadata": {
            "tags": [],
            "needs_background": "light"
          }
        }
      ]
    },
    {
      "cell_type": "markdown",
      "metadata": {
        "id": "YKOEHk9GAJ38"
      },
      "source": [
        "### 3. reality"
      ]
    },
    {
      "cell_type": "code",
      "metadata": {
        "colab": {
          "base_uri": "https://localhost:8080/"
        },
        "id": "-XRXVTxgAIRD",
        "outputId": "8841005f-47b2-4053-8977-d0d77e5a7094"
      },
      "source": [
        "data_train['reality'].value_counts()"
      ],
      "execution_count": null,
      "outputs": [
        {
          "output_type": "execute_result",
          "data": {
            "text/plain": [
              "Y    17830\n",
              "N     8627\n",
              "Name: reality, dtype: int64"
            ]
          },
          "metadata": {
            "tags": []
          },
          "execution_count": 22
        }
      ]
    },
    {
      "cell_type": "code",
      "metadata": {
        "colab": {
          "base_uri": "https://localhost:8080/"
        },
        "id": "qHrZBxi0ARBO",
        "outputId": "630ab857-186c-4de1-826c-05c05417d61e"
      },
      "source": [
        "data_train['reality'].isnull().sum()"
      ],
      "execution_count": null,
      "outputs": [
        {
          "output_type": "execute_result",
          "data": {
            "text/plain": [
              "0"
            ]
          },
          "metadata": {
            "tags": []
          },
          "execution_count": 23
        }
      ]
    },
    {
      "cell_type": "code",
      "metadata": {
        "colab": {
          "base_uri": "https://localhost:8080/",
          "height": 297
        },
        "id": "x-hCU4eJEXkF",
        "outputId": "75e28f97-3dbc-43be-b21c-cd0052d8b9e5"
      },
      "source": [
        "sns.violinplot(x= 'credit', y = 'reality', data = data_train)"
      ],
      "execution_count": null,
      "outputs": [
        {
          "output_type": "execute_result",
          "data": {
            "text/plain": [
              "<matplotlib.axes._subplots.AxesSubplot at 0x7f8aedb56b10>"
            ]
          },
          "metadata": {
            "tags": []
          },
          "execution_count": 38
        },
        {
          "output_type": "display_data",
          "data": {
            "image/png": "[encoded data removed]",
            "text/plain": [
              "<Figure size 432x288 with 1 Axes>"
            ]
          },
          "metadata": {
            "tags": [],
            "needs_background": "light"
          }
        }
      ]
    },
    {
      "cell_type": "markdown",
      "metadata": {
        "id": "Jd-5ReWJBJg5"
      },
      "source": [
        "### 4. child_num"
      ]
    },
    {
      "cell_type": "code",
      "metadata": {
        "colab": {
          "base_uri": "https://localhost:8080/"
        },
        "id": "ZtNkDjPbAYjN",
        "outputId": "e33863b1-c520-445e-a282-264d864c1bcb"
      },
      "source": [
        "data_train['child_num'].value_counts()"
      ],
      "execution_count": null,
      "outputs": [
        {
          "output_type": "execute_result",
          "data": {
            "text/plain": [
              "0     18340\n",
              "1      5386\n",
              "2      2362\n",
              "3       306\n",
              "4        47\n",
              "5        10\n",
              "14        3\n",
              "7         2\n",
              "19        1\n",
              "Name: child_num, dtype: int64"
            ]
          },
          "metadata": {
            "tags": []
          },
          "execution_count": 24
        }
      ]
    },
    {
      "cell_type": "code",
      "metadata": {
        "colab": {
          "base_uri": "https://localhost:8080/"
        },
        "id": "pSYmAuPxBQGk",
        "outputId": "ee37caa5-9438-4249-a785-4a88a8ac2daf"
      },
      "source": [
        "data_train['child_num'].isnull().sum()"
      ],
      "execution_count": null,
      "outputs": [
        {
          "output_type": "execute_result",
          "data": {
            "text/plain": [
              "0"
            ]
          },
          "metadata": {
            "tags": []
          },
          "execution_count": 25
        }
      ]
    },
    {
      "cell_type": "code",
      "metadata": {
        "colab": {
          "base_uri": "https://localhost:8080/",
          "height": 283
        },
        "id": "4QSr7q68BR3z",
        "outputId": "2a847182-7551-4bb5-fb2f-34799e93d61f"
      },
      "source": [
        "data_train['child_num'].hist()"
      ],
      "execution_count": null,
      "outputs": [
        {
          "output_type": "execute_result",
          "data": {
            "text/plain": [
              "<matplotlib.axes._subplots.AxesSubplot at 0x7f8aedae7a10>"
            ]
          },
          "metadata": {
            "tags": []
          },
          "execution_count": 52
        },
        {
          "output_type": "display_data",
          "data": {
            "image/png": "[encoded data removed]",
            "text/plain": [
              "<Figure size 432x288 with 1 Axes>"
            ]
          },
          "metadata": {
            "tags": [],
            "needs_background": "light"
          }
        }
      ]
    },
    {
      "cell_type": "markdown",
      "metadata": {
        "id": "Pd1yX8HaBzIV"
      },
      "source": [
        "### 5. income_total"
      ]
    },
    {
      "cell_type": "code",
      "metadata": {
        "colab": {
          "base_uri": "https://localhost:8080/"
        },
        "id": "Y9l_zzM-C3IC",
        "outputId": "7640f2d5-15db-4998-a079-0f77adb72c4c"
      },
      "source": [
        "data_train['income_total'].describe()"
      ],
      "execution_count": null,
      "outputs": [
        {
          "output_type": "execute_result",
          "data": {
            "text/plain": [
              "count    2.645700e+04\n",
              "mean     1.873065e+05\n",
              "std      1.018784e+05\n",
              "min      2.700000e+04\n",
              "25%      1.215000e+05\n",
              "50%      1.575000e+05\n",
              "75%      2.250000e+05\n",
              "max      1.575000e+06\n",
              "Name: income_total, dtype: float64"
            ]
          },
          "metadata": {
            "tags": []
          },
          "execution_count": 34
        }
      ]
    },
    {
      "cell_type": "code",
      "metadata": {
        "colab": {
          "base_uri": "https://localhost:8080/"
        },
        "id": "zCD4ljaJB8FC",
        "outputId": "25cfed46-c4d9-4c61-d69c-109f37401d4a"
      },
      "source": [
        "data_train['income_total'].isnull().sum()"
      ],
      "execution_count": null,
      "outputs": [
        {
          "output_type": "execute_result",
          "data": {
            "text/plain": [
              "0"
            ]
          },
          "metadata": {
            "tags": []
          },
          "execution_count": 31
        }
      ]
    },
    {
      "cell_type": "code",
      "metadata": {
        "colab": {
          "base_uri": "https://localhost:8080/",
          "height": 296
        },
        "id": "NLTYRJk8B_kS",
        "outputId": "7685aa8d-9f3f-48db-9fb7-c52004957ddc"
      },
      "source": [
        "data_train['income_total'].hist()"
      ],
      "execution_count": null,
      "outputs": [
        {
          "output_type": "execute_result",
          "data": {
            "text/plain": [
              "<matplotlib.axes._subplots.AxesSubplot at 0x7f8aed9b1290>"
            ]
          },
          "metadata": {
            "tags": []
          },
          "execution_count": 53
        },
        {
          "output_type": "display_data",
          "data": {
            "image/png": "[encoded data removed]",
            "text/plain": [
              "<Figure size 432x288 with 1 Axes>"
            ]
          },
          "metadata": {
            "tags": [],
            "needs_background": "light"
          }
        }
      ]
    },
    {
      "cell_type": "markdown",
      "metadata": {
        "id": "XuM-mm4gFxiz"
      },
      "source": [
        "### 6. income_type"
      ]
    },
    {
      "cell_type": "code",
      "metadata": {
        "colab": {
          "base_uri": "https://localhost:8080/"
        },
        "id": "zv0YeNrTCGOx",
        "outputId": "b5dca44d-5188-42c8-bbbc-9051e8ed47bf"
      },
      "source": [
        "data_train['income_type'].value_counts()"
      ],
      "execution_count": null,
      "outputs": [
        {
          "output_type": "execute_result",
          "data": {
            "text/plain": [
              "Working                 13645\n",
              "Commercial associate     6202\n",
              "Pensioner                4449\n",
              "State servant            2154\n",
              "Student                     7\n",
              "Name: income_type, dtype: int64"
            ]
          },
          "metadata": {
            "tags": []
          },
          "execution_count": 39
        }
      ]
    },
    {
      "cell_type": "code",
      "metadata": {
        "colab": {
          "base_uri": "https://localhost:8080/"
        },
        "id": "egFmzrf8FxCj",
        "outputId": "bf78997c-3116-4ef2-91dc-526f409d2093"
      },
      "source": [
        "data_train['income_type'].isnull().sum()"
      ],
      "execution_count": null,
      "outputs": [
        {
          "output_type": "execute_result",
          "data": {
            "text/plain": [
              "0"
            ]
          },
          "metadata": {
            "tags": []
          },
          "execution_count": 40
        }
      ]
    },
    {
      "cell_type": "markdown",
      "metadata": {
        "id": "A3cO6bCZGUyn"
      },
      "source": [
        "### 7. edu_type"
      ]
    },
    {
      "cell_type": "code",
      "metadata": {
        "colab": {
          "base_uri": "https://localhost:8080/"
        },
        "id": "GcZTgdIjGRaQ",
        "outputId": "dd952166-31a1-4279-ad4f-a2f3f52c5e5b"
      },
      "source": [
        "data_train['edu_type'].value_counts()"
      ],
      "execution_count": null,
      "outputs": [
        {
          "output_type": "execute_result",
          "data": {
            "text/plain": [
              "Secondary / secondary special    17995\n",
              "Higher education                  7162\n",
              "Incomplete higher                 1020\n",
              "Lower secondary                    257\n",
              "Academic degree                     23\n",
              "Name: edu_type, dtype: int64"
            ]
          },
          "metadata": {
            "tags": []
          },
          "execution_count": 42
        }
      ]
    },
    {
      "cell_type": "code",
      "metadata": {
        "colab": {
          "base_uri": "https://localhost:8080/"
        },
        "id": "m--Y9XMlGdRD",
        "outputId": "342a3150-93f8-421c-9640-d3ff1d77b312"
      },
      "source": [
        "data_train['edu_type'].isnull().sum()"
      ],
      "execution_count": null,
      "outputs": [
        {
          "output_type": "execute_result",
          "data": {
            "text/plain": [
              "0"
            ]
          },
          "metadata": {
            "tags": []
          },
          "execution_count": 43
        }
      ]
    },
    {
      "cell_type": "markdown",
      "metadata": {
        "id": "vJIYH_mcGxtr"
      },
      "source": [
        "### 8. family_type"
      ]
    },
    {
      "cell_type": "code",
      "metadata": {
        "colab": {
          "base_uri": "https://localhost:8080/"
        },
        "id": "RIVPQf72GuoK",
        "outputId": "aca84a60-eef0-45c1-e0ba-80385bb917dc"
      },
      "source": [
        "data_train['family_type'].value_counts()"
      ],
      "execution_count": null,
      "outputs": [
        {
          "output_type": "execute_result",
          "data": {
            "text/plain": [
              "Married                 18196\n",
              "Single / not married     3496\n",
              "Civil marriage           2123\n",
              "Separated                1539\n",
              "Widow                    1103\n",
              "Name: family_type, dtype: int64"
            ]
          },
          "metadata": {
            "tags": []
          },
          "execution_count": 44
        }
      ]
    },
    {
      "cell_type": "code",
      "metadata": {
        "colab": {
          "base_uri": "https://localhost:8080/"
        },
        "id": "7OA_5ESzHC3j",
        "outputId": "9df7b9ce-3d1a-4ca6-f5df-4555735ab176"
      },
      "source": [
        "data_train['family_type'].isnull().sum()"
      ],
      "execution_count": null,
      "outputs": [
        {
          "output_type": "execute_result",
          "data": {
            "text/plain": [
              "0"
            ]
          },
          "metadata": {
            "tags": []
          },
          "execution_count": 45
        }
      ]
    },
    {
      "cell_type": "markdown",
      "metadata": {
        "id": "fU41fXgEHJ1H"
      },
      "source": [
        "### 9. house_type"
      ]
    },
    {
      "cell_type": "code",
      "metadata": {
        "colab": {
          "base_uri": "https://localhost:8080/"
        },
        "id": "iQP5IPbOHJK4",
        "outputId": "64274157-98a0-44c8-b820-5a370b3aca14"
      },
      "source": [
        "data_train['house_type'].value_counts()"
      ],
      "execution_count": null,
      "outputs": [
        {
          "output_type": "execute_result",
          "data": {
            "text/plain": [
              "House / apartment      23653\n",
              "With parents            1257\n",
              "Municipal apartment      818\n",
              "Rented apartment         429\n",
              "Office apartment         190\n",
              "Co-op apartment          110\n",
              "Name: house_type, dtype: int64"
            ]
          },
          "metadata": {
            "tags": []
          },
          "execution_count": 46
        }
      ]
    },
    {
      "cell_type": "code",
      "metadata": {
        "colab": {
          "base_uri": "https://localhost:8080/"
        },
        "id": "hpDTGR2XHebl",
        "outputId": "fb9154eb-e1bb-415c-f087-3c92024d6d2f"
      },
      "source": [
        "data_train['house_type'].isnull().sum()"
      ],
      "execution_count": null,
      "outputs": [
        {
          "output_type": "execute_result",
          "data": {
            "text/plain": [
              "0"
            ]
          },
          "metadata": {
            "tags": []
          },
          "execution_count": 47
        }
      ]
    },
    {
      "cell_type": "markdown",
      "metadata": {
        "id": "ryf30zLDHj0U"
      },
      "source": [
        "### 1.10. DAYS_BIRTH"
      ]
    },
    {
      "cell_type": "code",
      "metadata": {
        "colab": {
          "base_uri": "https://localhost:8080/"
        },
        "id": "PDef9G8WHiYw",
        "outputId": "08b13b03-6e81-4d76-98ec-f792a36382d6"
      },
      "source": [
        "data_train['DAYS_BIRTH'].describe()"
      ],
      "execution_count": null,
      "outputs": [
        {
          "output_type": "execute_result",
          "data": {
            "text/plain": [
              "count    26457.000000\n",
              "mean    -15958.053899\n",
              "std       4201.589022\n",
              "min     -25152.000000\n",
              "25%     -19431.000000\n",
              "50%     -15547.000000\n",
              "75%     -12446.000000\n",
              "max      -7705.000000\n",
              "Name: DAYS_BIRTH, dtype: float64"
            ]
          },
          "metadata": {
            "tags": []
          },
          "execution_count": 49
        }
      ]
    },
    {
      "cell_type": "code",
      "metadata": {
        "colab": {
          "base_uri": "https://localhost:8080/"
        },
        "id": "kfBFH-WWHts6",
        "outputId": "cb98b068-7b8c-4799-a38c-60ee4805360a"
      },
      "source": [
        "data_train['DAYS_BIRTH'].isnull().sum()"
      ],
      "execution_count": null,
      "outputs": [
        {
          "output_type": "execute_result",
          "data": {
            "text/plain": [
              "0"
            ]
          },
          "metadata": {
            "tags": []
          },
          "execution_count": 50
        }
      ]
    },
    {
      "cell_type": "code",
      "metadata": {
        "colab": {
          "base_uri": "https://localhost:8080/",
          "height": 283
        },
        "id": "3-wnbcbQIyRj",
        "outputId": "a60c2d8e-ac1c-4133-ee46-bdac8105c3ee"
      },
      "source": [
        "data_train['DAYS_BIRTH'].hist()"
      ],
      "execution_count": null,
      "outputs": [
        {
          "output_type": "execute_result",
          "data": {
            "text/plain": [
              "<matplotlib.axes._subplots.AxesSubplot at 0x7f8af854ffd0>"
            ]
          },
          "metadata": {
            "tags": []
          },
          "execution_count": 51
        },
        {
          "output_type": "display_data",
          "data": {
            "image/png": "[encoded data removed]",
            "text/plain": [
              "<Figure size 432x288 with 1 Axes>"
            ]
          },
          "metadata": {
            "tags": [],
            "needs_background": "light"
          }
        }
      ]
    },
    {
      "cell_type": "markdown",
      "metadata": {
        "id": "bGQsUEk4KWY9"
      },
      "source": [
        "### 1.11. DAYS_EMPLOYED"
      ]
    },
    {
      "cell_type": "code",
      "metadata": {
        "colab": {
          "base_uri": "https://localhost:8080/"
        },
        "id": "2D-J_7qcI4Hf",
        "outputId": "d473c493-1892-4733-ceb8-9a054bdc417c"
      },
      "source": [
        "data_train['DAYS_EMPLOYED'].describe()"
      ],
      "execution_count": null,
      "outputs": [
        {
          "output_type": "execute_result",
          "data": {
            "text/plain": [
              "count     26457.000000\n",
              "mean      59068.750728\n",
              "std      137475.427503\n",
              "min      -15713.000000\n",
              "25%       -3153.000000\n",
              "50%       -1539.000000\n",
              "75%        -407.000000\n",
              "max      365243.000000\n",
              "Name: DAYS_EMPLOYED, dtype: float64"
            ]
          },
          "metadata": {
            "tags": []
          },
          "execution_count": 55
        }
      ]
    },
    {
      "cell_type": "code",
      "metadata": {
        "colab": {
          "base_uri": "https://localhost:8080/"
        },
        "id": "sxea4BHsNG-W",
        "outputId": "f1c97055-4969-451a-be2b-85ab3f85fd76"
      },
      "source": [
        "data_train['DAYS_EMPLOYED'].isnull().sum()"
      ],
      "execution_count": null,
      "outputs": [
        {
          "output_type": "execute_result",
          "data": {
            "text/plain": [
              "0"
            ]
          },
          "metadata": {
            "tags": []
          },
          "execution_count": 64
        }
      ]
    },
    {
      "cell_type": "code",
      "metadata": {
        "colab": {
          "base_uri": "https://localhost:8080/",
          "height": 285
        },
        "id": "AJS0-UX7LGIO",
        "outputId": "9ad27ad8-1e6d-4a28-ad88-23a4e745cc4f"
      },
      "source": [
        "data_train['DAYS_EMPLOYED'].hist(bins= 100)"
      ],
      "execution_count": null,
      "outputs": [
        {
          "output_type": "execute_result",
          "data": {
            "text/plain": [
              "<matplotlib.axes._subplots.AxesSubplot at 0x7f8aed925510>"
            ]
          },
          "metadata": {
            "tags": []
          },
          "execution_count": 57
        },
        {
          "output_type": "display_data",
          "data": {
            "image/png": "[encoded data removed]",
            "text/plain": [
              "<Figure size 432x288 with 1 Axes>"
            ]
          },
          "metadata": {
            "tags": [],
            "needs_background": "light"
          }
        }
      ]
    },
    {
      "cell_type": "markdown",
      "metadata": {
        "id": "HjYhLdHGLVxC"
      },
      "source": [
        "### 1.12. FLAG_MOBIL\n",
        "\n",
        " - 필요 없는 feature"
      ]
    },
    {
      "cell_type": "code",
      "metadata": {
        "colab": {
          "base_uri": "https://localhost:8080/"
        },
        "id": "wdphfqrALJ83",
        "outputId": "40f1f4e1-220f-4f67-9f65-9df869076b2d"
      },
      "source": [
        "data_train['FLAG_MOBIL'].value_counts()"
      ],
      "execution_count": null,
      "outputs": [
        {
          "output_type": "execute_result",
          "data": {
            "text/plain": [
              "1    26457\n",
              "Name: FLAG_MOBIL, dtype: int64"
            ]
          },
          "metadata": {
            "tags": []
          },
          "execution_count": 59
        }
      ]
    },
    {
      "cell_type": "markdown",
      "metadata": {
        "id": "VP_F01EpLwdf"
      },
      "source": [
        "### 1.13. work_phone"
      ]
    },
    {
      "cell_type": "code",
      "metadata": {
        "colab": {
          "base_uri": "https://localhost:8080/"
        },
        "id": "WDhMzJeILkii",
        "outputId": "64545f05-095d-4b70-d3a4-7bcca39e9055"
      },
      "source": [
        "data_train['work_phone'].value_counts()"
      ],
      "execution_count": null,
      "outputs": [
        {
          "output_type": "execute_result",
          "data": {
            "text/plain": [
              "0    20511\n",
              "1     5946\n",
              "Name: work_phone, dtype: int64"
            ]
          },
          "metadata": {
            "tags": []
          },
          "execution_count": 60
        }
      ]
    },
    {
      "cell_type": "markdown",
      "metadata": {
        "id": "Fn3ixgsPMDbX"
      },
      "source": [
        "### 1.14. phone"
      ]
    },
    {
      "cell_type": "code",
      "metadata": {
        "colab": {
          "base_uri": "https://localhost:8080/"
        },
        "id": "gD-ierFfMDEL",
        "outputId": "27b4c613-303a-4e76-e954-c79edf30173d"
      },
      "source": [
        "data_train['phone'].value_counts()"
      ],
      "execution_count": null,
      "outputs": [
        {
          "output_type": "execute_result",
          "data": {
            "text/plain": [
              "0    18672\n",
              "1     7785\n",
              "Name: phone, dtype: int64"
            ]
          },
          "metadata": {
            "tags": []
          },
          "execution_count": 61
        }
      ]
    },
    {
      "cell_type": "markdown",
      "metadata": {
        "id": "O1Opf8KoMWXD"
      },
      "source": [
        "### 1.15 email\n",
        "\n",
        " - work phone, phone과의 상관관계 높으면 삭제 가능"
      ]
    },
    {
      "cell_type": "code",
      "metadata": {
        "colab": {
          "base_uri": "https://localhost:8080/"
        },
        "id": "fOv8VvttMLji",
        "outputId": "268249ba-0792-465b-eeff-8b42bb13651a"
      },
      "source": [
        "data_train['email'].value_counts()"
      ],
      "execution_count": null,
      "outputs": [
        {
          "output_type": "execute_result",
          "data": {
            "text/plain": [
              "0    24042\n",
              "1     2415\n",
              "Name: email, dtype: int64"
            ]
          },
          "metadata": {
            "tags": []
          },
          "execution_count": 62
        }
      ]
    },
    {
      "cell_type": "markdown",
      "metadata": {
        "id": "giccYoevM01s"
      },
      "source": [
        "### 1.16. occyp_type\n",
        "\n",
        " - 결측치 존재 (제거하기엔 많음)"
      ]
    },
    {
      "cell_type": "code",
      "metadata": {
        "colab": {
          "base_uri": "https://localhost:8080/"
        },
        "id": "2EFO86M2MijR",
        "outputId": "316faef5-651d-4cca-83f9-70b6cae14b0e"
      },
      "source": [
        "data_train['occyp_type'].value_counts()"
      ],
      "execution_count": null,
      "outputs": [
        {
          "output_type": "execute_result",
          "data": {
            "text/plain": [
              "Laborers                 4512\n",
              "Core staff               2646\n",
              "Sales staff              2539\n",
              "Managers                 2167\n",
              "Drivers                  1575\n",
              "High skill tech staff    1040\n",
              "Accountants               902\n",
              "Medicine staff            864\n",
              "Cooking staff             457\n",
              "Security staff            424\n",
              "Cleaning staff            403\n",
              "Private service staff     243\n",
              "Low-skill Laborers        127\n",
              "Waiters/barmen staff      124\n",
              "Secretaries                97\n",
              "Realty agents              63\n",
              "HR staff                   62\n",
              "IT staff                   41\n",
              "Name: occyp_type, dtype: int64"
            ]
          },
          "metadata": {
            "tags": []
          },
          "execution_count": 63
        }
      ]
    },
    {
      "cell_type": "code",
      "metadata": {
        "colab": {
          "base_uri": "https://localhost:8080/"
        },
        "id": "rz1yED9_M883",
        "outputId": "33d702f6-0933-4859-b74a-64d9309f95ae"
      },
      "source": [
        "data_train['occyp_type'].isnull().sum()"
      ],
      "execution_count": null,
      "outputs": [
        {
          "output_type": "execute_result",
          "data": {
            "text/plain": [
              "8171"
            ]
          },
          "metadata": {
            "tags": []
          },
          "execution_count": 65
        }
      ]
    },
    {
      "cell_type": "markdown",
      "metadata": {
        "id": "KjdwUg6GNYUq"
      },
      "source": [
        "### 1. 17. family_size"
      ]
    },
    {
      "cell_type": "code",
      "metadata": {
        "colab": {
          "base_uri": "https://localhost:8080/"
        },
        "id": "EowZD8qKNPgC",
        "outputId": "77ac692c-60c7-432e-a8d9-0ea56e1fbf44"
      },
      "source": [
        "data_train['family_size'].value_counts()"
      ],
      "execution_count": null,
      "outputs": [
        {
          "output_type": "execute_result",
          "data": {
            "text/plain": [
              "2.0     14106\n",
              "1.0      5109\n",
              "3.0      4632\n",
              "4.0      2260\n",
              "5.0       291\n",
              "6.0        44\n",
              "7.0         9\n",
              "15.0        3\n",
              "9.0         2\n",
              "20.0        1\n",
              "Name: family_size, dtype: int64"
            ]
          },
          "metadata": {
            "tags": []
          },
          "execution_count": 67
        }
      ]
    },
    {
      "cell_type": "code",
      "metadata": {
        "colab": {
          "base_uri": "https://localhost:8080/"
        },
        "id": "zInT_FNINhY7",
        "outputId": "07b4815a-d8a5-4f69-aa64-6b7048caad23"
      },
      "source": [
        "data_train['family_size'].isnull().sum()"
      ],
      "execution_count": null,
      "outputs": [
        {
          "output_type": "execute_result",
          "data": {
            "text/plain": [
              "0"
            ]
          },
          "metadata": {
            "tags": []
          },
          "execution_count": 69
        }
      ]
    },
    {
      "cell_type": "code",
      "metadata": {
        "colab": {
          "base_uri": "https://localhost:8080/",
          "height": 285
        },
        "id": "D8g5-XYwNnHI",
        "outputId": "939a7700-eace-4461-a644-047d7d14f3fe"
      },
      "source": [
        "data_train['family_size'].hist()"
      ],
      "execution_count": null,
      "outputs": [
        {
          "output_type": "execute_result",
          "data": {
            "text/plain": [
              "<matplotlib.axes._subplots.AxesSubplot at 0x7f8aedb7d910>"
            ]
          },
          "metadata": {
            "tags": []
          },
          "execution_count": 70
        },
        {
          "output_type": "display_data",
          "data": {
            "image/png": "[encoded data removed]",
            "text/plain": [
              "<Figure size 432x288 with 1 Axes>"
            ]
          },
          "metadata": {
            "tags": [],
            "needs_background": "light"
          }
        }
      ]
    },
    {
      "cell_type": "markdown",
      "metadata": {
        "id": "3PRALmzcN1Y4"
      },
      "source": [
        "### 1.18. begin_month"
      ]
    },
    {
      "cell_type": "code",
      "metadata": {
        "colab": {
          "base_uri": "https://localhost:8080/"
        },
        "id": "iT2pjsyDNuNX",
        "outputId": "ac330129-2603-41ab-9512-cf7846d2f5a1"
      },
      "source": [
        "data_train['begin_month'].describe()"
      ],
      "execution_count": null,
      "outputs": [
        {
          "output_type": "execute_result",
          "data": {
            "text/plain": [
              "count    26457.000000\n",
              "mean       -26.123294\n",
              "std         16.559550\n",
              "min        -60.000000\n",
              "25%        -39.000000\n",
              "50%        -24.000000\n",
              "75%        -12.000000\n",
              "max          0.000000\n",
              "Name: begin_month, dtype: float64"
            ]
          },
          "metadata": {
            "tags": []
          },
          "execution_count": 72
        }
      ]
    },
    {
      "cell_type": "code",
      "metadata": {
        "colab": {
          "base_uri": "https://localhost:8080/"
        },
        "id": "C46Ggrg0N7J9",
        "outputId": "c338136f-b882-49d0-e5dc-0e9ada605eba"
      },
      "source": [
        "data_train['begin_month'].isnull().sum()"
      ],
      "execution_count": null,
      "outputs": [
        {
          "output_type": "execute_result",
          "data": {
            "text/plain": [
              "0"
            ]
          },
          "metadata": {
            "tags": []
          },
          "execution_count": 73
        }
      ]
    },
    {
      "cell_type": "code",
      "metadata": {
        "colab": {
          "base_uri": "https://localhost:8080/",
          "height": 283
        },
        "id": "J41Z9qtdOEax",
        "outputId": "1e872486-b6bf-4c09-bf56-fe0d32783c37"
      },
      "source": [
        "data_train['begin_month'].hist()"
      ],
      "execution_count": null,
      "outputs": [
        {
          "output_type": "execute_result",
          "data": {
            "text/plain": [
              "<matplotlib.axes._subplots.AxesSubplot at 0x7f8af7d2b350>"
            ]
          },
          "metadata": {
            "tags": []
          },
          "execution_count": 74
        },
        {
          "output_type": "display_data",
          "data": {
            "image/png": "[encoded data removed]",
            "text/plain": [
              "<Figure size 432x288 with 1 Axes>"
            ]
          },
          "metadata": {
            "tags": [],
            "needs_background": "light"
          }
        }
      ]
    },
    {
      "cell_type": "code",
      "metadata": {
        "id": "RcTctGaSOINb"
      },
      "source": [
        ""
      ],
      "execution_count": null,
      "outputs": []
    }
  ]
}